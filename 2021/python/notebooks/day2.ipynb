{
 "cells": [
  {
   "cell_type": "markdown",
   "metadata": {},
   "source": [
    "# Day 2"
   ]
  },
  {
   "cell_type": "code",
   "execution_count": 2,
   "metadata": {},
   "outputs": [],
   "source": [
    "from adventofcode import get_input\n",
    "def processor(val: str) -> tuple[str, int]:\n",
    "    split = val.split()\n",
    "    return (split[0], int(split[1]))\n",
    "\n",
    "data: list[tuple[str, int]] = [n for n in get_input(2, processor)]"
   ]
  },
  {
   "cell_type": "markdown",
   "metadata": {},
   "source": [
    "## Part 1\n",
    "\n",
    "[link](https://adventofcode.com/2021/day/2)"
   ]
  },
  {
   "cell_type": "code",
   "execution_count": 4,
   "metadata": {},
   "outputs": [
    {
     "name": "stdout",
     "output_type": "stream",
     "text": [
      "1693300\n"
     ]
    }
   ],
   "source": [
    "hpos: int = 0\n",
    "depth: int = 0\n",
    "\n",
    "for command in data:\n",
    "    if command[0] == \"forward\":\n",
    "        hpos += command[1]\n",
    "    elif command[0] == \"down\":\n",
    "        depth += command[1]\n",
    "    else:\n",
    "        depth -= command[1]\n",
    "\n",
    "print(hpos * depth)"
   ]
  },
  {
   "cell_type": "markdown",
   "metadata": {},
   "source": [
    "## Part 2\n",
    "\n",
    "[link](https://adventofcode.com/2021/day/2#part2)"
   ]
  },
  {
   "cell_type": "code",
   "execution_count": 3,
   "metadata": {},
   "outputs": [
    {
     "name": "stdout",
     "output_type": "stream",
     "text": [
      "1857958050\n"
     ]
    }
   ],
   "source": [
    "aim: int = 0\n",
    "hpos: int = 0\n",
    "depth: int = 0\n",
    "\n",
    "for command in data:\n",
    "    if command[0] == \"forward\":\n",
    "        hpos += command[1]\n",
    "        depth += aim * command[1]\n",
    "    elif command[0] == \"down\":\n",
    "        aim += command[1]\n",
    "    else:\n",
    "        aim -= command[1]\n",
    "\n",
    "print(hpos * depth)"
   ]
  }
 ],
 "metadata": {
  "interpreter": {
   "hash": "8cdf95f45fd37314e9b4f0f705ca8c453af1cde8faf8c3d230d12683561ab9ba"
  },
  "kernelspec": {
   "display_name": "Python 3.9.9 64-bit ('.venv': poetry)",
   "language": "python",
   "name": "python3"
  },
  "language_info": {
   "codemirror_mode": {
    "name": "ipython",
    "version": 3
   },
   "file_extension": ".py",
   "mimetype": "text/x-python",
   "name": "python",
   "nbconvert_exporter": "python",
   "pygments_lexer": "ipython3",
   "version": "3.9.9"
  },
  "orig_nbformat": 4
 },
 "nbformat": 4,
 "nbformat_minor": 2
}
