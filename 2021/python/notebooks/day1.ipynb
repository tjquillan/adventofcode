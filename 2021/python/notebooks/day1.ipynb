{
 "cells": [
  {
   "cell_type": "markdown",
   "metadata": {},
   "source": [
    "# Day 1"
   ]
  },
  {
   "cell_type": "markdown",
   "metadata": {},
   "source": [
    "## Part 1\n",
    "\n",
    "[link](https://adventofcode.com/2021/day/1)"
   ]
  },
  {
   "cell_type": "code",
   "execution_count": 21,
   "metadata": {},
   "outputs": [
    {
     "data": {
      "text/plain": [
       "1215"
      ]
     },
     "execution_count": 21,
     "metadata": {},
     "output_type": "execute_result"
    }
   ],
   "source": [
    "from adventofcode import get_input\n",
    "\n",
    "data: list[int] = get_input(1)\n",
    "\n",
    "count: int  = 0\n",
    "prev: int = data[0]\n",
    "for depth in data[1::]:\n",
    "    if prev < depth:\n",
    "        count += 1\n",
    "    prev = depth\n",
    "\n",
    "count\n",
    "\n",
    "    "
   ]
  },
  {
   "cell_type": "markdown",
   "metadata": {},
   "source": [
    "## Part 2\n",
    "\n",
    "[link](https://adventofcode.com/2021/day/1#part2)"
   ]
  },
  {
   "cell_type": "code",
   "execution_count": 22,
   "metadata": {},
   "outputs": [
    {
     "data": {
      "text/plain": [
       "1150"
      ]
     },
     "execution_count": 22,
     "metadata": {},
     "output_type": "execute_result"
    }
   ],
   "source": [
    "from adventofcode import get_input\n",
    "\n",
    "data: list[int] = get_input(1)\n",
    "\n",
    "count: int  = 0\n",
    "prev: int = sum(data[0:3])\n",
    "for start in range(1, len(data)-2, 1):\n",
    "    window = sum(data[start:start+3])\n",
    "    if prev < window:\n",
    "        count += 1\n",
    "    prev = window\n",
    "\n",
    "count\n",
    "\n",
    "    "
   ]
  }
 ],
 "metadata": {
  "interpreter": {
   "hash": "dfe1e92944b21619b0448955594b168902554ed0e19588e68c3a2adad66c5481"
  },
  "kernelspec": {
   "display_name": "Python 3.9.9 64-bit ('.venv': poetry)",
   "language": "python",
   "name": "python3"
  },
  "language_info": {
   "codemirror_mode": {
    "name": "ipython",
    "version": 3
   },
   "file_extension": ".py",
   "mimetype": "text/x-python",
   "name": "python",
   "nbconvert_exporter": "python",
   "pygments_lexer": "ipython3",
   "version": "3.9.9"
  },
  "orig_nbformat": 4
 },
 "nbformat": 4,
 "nbformat_minor": 2
}
