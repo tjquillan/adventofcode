{
 "cells": [
  {
   "cell_type": "markdown",
   "metadata": {},
   "source": [
    "# Day 3"
   ]
  },
  {
   "cell_type": "code",
   "execution_count": 1,
   "metadata": {},
   "outputs": [],
   "source": [
    "from adventofcode import get_input\n",
    "\n",
    "data: list[str] = get_input(3)"
   ]
  },
  {
   "cell_type": "markdown",
   "metadata": {},
   "source": [
    "## Part 1"
   ]
  },
  {
   "cell_type": "code",
   "execution_count": 2,
   "metadata": {},
   "outputs": [
    {
     "name": "stdout",
     "output_type": "stream",
     "text": [
      "3813416\n"
     ]
    }
   ],
   "source": [
    "gamma_rate_bin: list[int] = []\n",
    "epsilon_rate_bin: list[int] = []\n",
    "\n",
    "for i in range(0, len(data[0])):\n",
    "    freq_0: int = 0\n",
    "    freq_1: int = 0\n",
    "    for j in range(len(data)):\n",
    "        freq_0 += data[j][i] == '0'\n",
    "        freq_1 += data[j][i] == '1'\n",
    "    gamma_rate_bin.append(int(freq_1 > freq_0))\n",
    "    epsilon_rate_bin.append(int(freq_1 < freq_0))\n",
    "\n",
    "gamma_rate = int(''.join(map(repr, gamma_rate_bin)), 2)\n",
    "epsilon_rate = int(''.join(map(repr, epsilon_rate_bin)), 2)\n",
    "\n",
    "print(gamma_rate * epsilon_rate)"
   ]
  },
  {
   "cell_type": "code",
   "execution_count": 3,
   "metadata": {},
   "outputs": [
    {
     "name": "stdout",
     "output_type": "stream",
     "text": [
      "2990784\n"
     ]
    }
   ],
   "source": [
    "from typing import Callable\n",
    "\n",
    "oxygen_rating: list[str] = data\n",
    "co2_rating: list[str] = data\n",
    "\n",
    "def filter(data: list[str], cond: Callable[[int, int], bool], pos: int = 0) -> list[str]:\n",
    "    freq_0: int = 0\n",
    "    freq_1: int = 0\n",
    "    for i in range(0, len(data)):\n",
    "        freq_0 += data[i][pos] == '0'\n",
    "        freq_1 += data[i][pos] == '1'\n",
    "    return [n for n in data if n[pos] == repr(int(cond(freq_1, freq_0)))]\n",
    "\n",
    "pos: int = 0\n",
    "while len(oxygen_rating) > 1:\n",
    "    oxygen_rating = filter(oxygen_rating, lambda x, y: x >= y, pos)\n",
    "    pos += 1\n",
    "\n",
    "pos = 0\n",
    "while len(co2_rating) > 1:\n",
    "    co2_rating = filter(co2_rating, lambda x, y: x < y, pos)\n",
    "    pos += 1\n",
    "\n",
    "print(int(oxygen_rating[0], 2) * int(co2_rating[0], 2))"
   ]
  }
 ],
 "metadata": {
  "interpreter": {
   "hash": "8cdf95f45fd37314e9b4f0f705ca8c453af1cde8faf8c3d230d12683561ab9ba"
  },
  "kernelspec": {
   "display_name": "Python 3.9.9 64-bit ('.venv': poetry)",
   "language": "python",
   "name": "python3"
  },
  "language_info": {
   "name": "python",
   "version": "3.9.9"
  },
  "orig_nbformat": 4
 },
 "nbformat": 4,
 "nbformat_minor": 2
}
